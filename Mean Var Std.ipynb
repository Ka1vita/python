{
 "cells": [
  {
   "cell_type": "code",
   "execution_count": 5,
   "id": "9ae71e49-4521-45b4-ac38-e0bdba678367",
   "metadata": {},
   "outputs": [
    {
     "name": "stdout",
     "output_type": "stream",
     "text": [
      "Requirement already satisfied: numpy in c:\\users\\hp\\appdata\\roaming\\python\\python312\\site-packages (1.26.4)\n",
      "Note: you may need to restart the kernel to use updated packages.\n"
     ]
    }
   ],
   "source": [
    "pip install numpy\n"
   ]
  },
  {
   "cell_type": "code",
   "execution_count": 11,
   "id": "70f38c56-1e74-414e-9ba0-c0c5744c8f41",
   "metadata": {},
   "outputs": [
    {
     "name": "stdout",
     "output_type": "stream",
     "text": [
      "{'mean': [[3.0, 4.0, 5.0], [1.0, 4.0, 7.0], 4.0], 'variance': [[6.0, 6.0, 6.0], [0.6666666666666666, 0.6666666666666666, 0.6666666666666666], 6.666666666666667], 'standard deviation': [[2.449489742783178, 2.449489742783178, 2.449489742783178], [0.816496580927726, 0.816496580927726, 0.816496580927726], 2.581988897471611], 'max': [[6, 7, 8], [2, 5, 8], 8], 'min': [[0, 1, 2], [0, 3, 6], 0], 'sum': [[9, 12, 15], [3, 12, 21], 36]}\n"
     ]
    }
   ],
   "source": [
    "import numpy as np\n",
    "\n",
    "def calculate(lst):\n",
    "    if len(lst) != 9:\n",
    "        raise ValueError(\"List must contain nine numbers.\")\n",
    "\n",
    "    # Reshape the list into a 3x3 numpy array\n",
    "    matrix = np.array(lst).reshape(3, 3)\n",
    "\n",
    "    # Calculate statistics along both axes and the flattened array\n",
    "    mean_axis1 = matrix.mean(axis=0).tolist()\n",
    "    mean_axis2 = matrix.mean(axis=1).tolist()\n",
    "    mean_flattened = matrix.mean().item()\n",
    "\n",
    "    variance_axis1 = matrix.var(axis=0).tolist()\n",
    "    variance_axis2 = matrix.var(axis=1).tolist()\n",
    "    variance_flattened = matrix.var().item()\n",
    "\n",
    "    std_axis1 = matrix.std(axis=0).tolist()\n",
    "    std_axis2 = matrix.std(axis=1).tolist()\n",
    "    std_flattened = matrix.std().item()\n",
    "\n",
    "    max_axis1 = matrix.max(axis=0).tolist()\n",
    "    max_axis2 = matrix.max(axis=1).tolist()\n",
    "    max_flattened = matrix.max().item()\n",
    "\n",
    "    min_axis1 = matrix.min(axis=0).tolist() \n",
    "    min_axis2 = matrix.min(axis=1).tolist()\n",
    "    min_flattened = matrix.min().item()\n",
    "\n",
    "    sum_axis1 = matrix.sum(axis=0).tolist()\n",
    "    sum_axis2 = matrix.sum(axis=1).tolist()\n",
    "    sum_flattened = matrix.sum().item()\n",
    "\n",
    "    # Return the dictionary with calculated values\n",
    "    return {\n",
    "        'mean': [mean_axis1, mean_axis2, mean_flattened],\n",
    "        'variance': [variance_axis1, variance_axis2, variance_flattened],\n",
    "        'standard deviation': [std_axis1, std_axis2, std_flattened],\n",
    "        'max': [max_axis1, max_axis2, max_flattened],\n",
    "        'min': [min_axis1, min_axis2, min_flattened],\n",
    "        'sum': [sum_axis1, sum_axis2, sum_flattened]\n",
    "    }\n",
    "\n",
    "\n",
    "res = calculate([0,1,2,3,4,5,6,7,8])\n",
    "print(res)"
   ]
  },
  {
   "cell_type": "code",
   "execution_count": null,
   "id": "18e1c386-4ce8-4883-b9e7-a6bf28caf8b0",
   "metadata": {},
   "outputs": [],
   "source": []
  }
 ],
 "metadata": {
  "kernelspec": {
   "display_name": "Python 3 (ipykernel)",
   "language": "python",
   "name": "python3"
  },
  "language_info": {
   "codemirror_mode": {
    "name": "ipython",
    "version": 3
   },
   "file_extension": ".py",
   "mimetype": "text/x-python",
   "name": "python",
   "nbconvert_exporter": "python",
   "pygments_lexer": "ipython3",
   "version": "3.12.7"
  }
 },
 "nbformat": 4,
 "nbformat_minor": 5
}
